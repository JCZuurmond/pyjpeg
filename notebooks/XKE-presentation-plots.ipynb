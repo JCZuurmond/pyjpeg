{
 "cells": [
  {
   "cell_type": "code",
   "execution_count": null,
   "metadata": {},
   "outputs": [],
   "source": [
    "%load_ext autoreload\n",
    "%autoreload 2\n",
    "%matplotlib inline"
   ]
  },
  {
   "cell_type": "markdown",
   "metadata": {},
   "source": [
    "# Image"
   ]
  },
  {
   "cell_type": "code",
   "execution_count": null,
   "metadata": {},
   "outputs": [],
   "source": [
    "import sys\n",
    "from pathlib import Path\n",
    "\n",
    "import numpy as np\n",
    "import matplotlib.pyplot as plt\n",
    "from PIL import Image\n",
    "\n",
    "from pyjpeg import pyjpeg\n",
    "\n",
    "\n",
    "image_path = Path('..', 'images', 'xccelerated.JPG')\n",
    "image = Image.open(image_path)\n",
    "\n",
    "print('Image size:', image.size)\n",
    "image"
   ]
  },
  {
   "cell_type": "markdown",
   "metadata": {},
   "source": [
    "# Convert to Numpy"
   ]
  },
  {
   "cell_type": "code",
   "execution_count": null,
   "metadata": {},
   "outputs": [],
   "source": [
    "im = np.array(image.getdata()).reshape(image.size[::-1] + (3,))"
   ]
  },
  {
   "cell_type": "code",
   "execution_count": null,
   "metadata": {},
   "outputs": [],
   "source": [
    "plt.imshow(im)\n",
    "plt.axis('off')\n",
    "plt.tight_layout()\n",
    "_ = plt.savefig(Path('..', 'images', 'xccelerated_small.JPG'))"
   ]
  },
  {
   "cell_type": "markdown",
   "metadata": {},
   "source": [
    "# Naive compression"
   ]
  },
  {
   "cell_type": "code",
   "execution_count": null,
   "metadata": {},
   "outputs": [],
   "source": [
    "w, h, _ = im.shape\n",
    "plt.imshow(im[:int(w/2), :int(h/2)])\n",
    "plt.axis('off')\n",
    "plt.tight_layout()\n",
    "_ = plt.savefig(Path('..', 'images', 'xccelerated_cropped.JPG'))"
   ]
  },
  {
   "cell_type": "code",
   "execution_count": null,
   "metadata": {},
   "outputs": [],
   "source": [
    "w, h, _ = im.shape\n",
    "plt.imshow(im.clip(0, 127), vmin=0, vmax=127)\n",
    "plt.axis('off')\n",
    "plt.tight_layout()\n",
    "_ = plt.savefig(Path('..', 'images', 'xccelerated_clipped.JPG'))"
   ]
  },
  {
   "cell_type": "code",
   "execution_count": null,
   "metadata": {},
   "outputs": [],
   "source": [
    "im = np.array(image.getdata()).mean(axis=1).reshape(image.size[::-1]).astype(int)\n",
    "\n",
    "print(f'Pixel values are within {im.min()} and {im.max()}')\n",
    "print(f'Dtype is', im.dtype)\n",
    "\n",
    "plt.imshow(im, cmap='gray')\n",
    "plt.axis('off')\n",
    "plt.tight_layout()\n",
    "_ = plt.savefig(Path('..', 'images', 'xccelerated_gray.JPG'))"
   ]
  },
  {
   "cell_type": "markdown",
   "metadata": {},
   "source": [
    "# DCT"
   ]
  },
  {
   "cell_type": "code",
   "execution_count": null,
   "metadata": {},
   "outputs": [],
   "source": [
    "patch = im[800:808, 600:608]\n",
    "\n",
    "\n",
    "def matshow(patch, color_func, vmin=None, vmax=None, round_digits=1):\n",
    "    vmin = vmin or patch.min()\n",
    "    vmax = vmax or patch.max()\n",
    "    \n",
    "    fig, ax = plt.subplots(1, 1)\n",
    "\n",
    "    ax.matshow(patch, cmap='gray', vmin=vmin, vmax=vmax)\n",
    "    for v in range(patch.shape[0]):\n",
    "        for u in range(patch.shape[1]):\n",
    "            val = round(patch[v, u], round_digits)\n",
    "            c = color_func(val)\n",
    "            ax.text(u, v, val, va='center', ha='center', color=c)\n",
    "            \n",
    "    ax.get_xaxis().set_ticks([])\n",
    "    ax.get_yaxis().set_ticks([])\n",
    "    plt.tight_layout()\n",
    "    \n",
    "    return fig, ax\n",
    "   \n",
    "color_func = lambda val: 'white' if val < 110 else 'black'\n",
    "matshow(patch, color_func)\n",
    "_ = plt.savefig(Path('..', 'images', 'patch_numbers.JPG'))"
   ]
  },
  {
   "cell_type": "code",
   "execution_count": null,
   "metadata": {},
   "outputs": [],
   "source": [
    "dct_cos = lambda x, u: np.cos(((2 * x + 1) * u * np.pi) / 16)\n",
    "\n",
    "spatial_frequency = 7\n",
    "dct_values = dct_cos(np.arange(8), spatial_frequency).reshape(1, 8)\n",
    "\n",
    "color_func = lambda val: 'white' if val < 0 else 'black'\n",
    "matshow(dct_values, color_func, vmin=-1, vmax=1)\n",
    "_ = plt.savefig(Path('..', 'images', f'dct_1d_{spatial_frequency}.JPG'))"
   ]
  },
  {
   "cell_type": "code",
   "execution_count": null,
   "metadata": {},
   "outputs": [],
   "source": [
    "dct_cos = lambda x, u: np.cos(((2 * x + 1) * u * np.pi) / 16)\n",
    "\n",
    "hor_spatial_frequency = 3\n",
    "ver_spatial_frequency = 6\n",
    "hor_dct_values = dct_cos(np.arange(8), hor_spatial_frequency).reshape(1, 8)\n",
    "ver_dct_values = dct_cos(np.arange(8), ver_spatial_frequency).reshape(8, 1)\n",
    "dct_values = np.outer(ver_dct_values, hor_dct_values)\n",
    "\n",
    "matshow(dct_values, color_func, vmin=-1, vmax=1)\n",
    "_ = plt.savefig(Path('..', 'images', f'dct_2d_{hor_spatial_frequency}_{ver_spatial_frequency}.JPG'))"
   ]
  },
  {
   "cell_type": "code",
   "execution_count": null,
   "metadata": {},
   "outputs": [],
   "source": [
    "fig, axes = plt.subplots(8, 8, figsize=(10, 10))\n",
    "                              \n",
    "for v in range(8):\n",
    "    for u in range(8):                       \n",
    "        hor_dct_values = dct_cos(np.arange(8), u).reshape(1, 8)\n",
    "        ver_dct_values = dct_cos(np.arange(8), v).reshape(8, 1)\n",
    "        dct_values = np.outer(ver_dct_values, hor_dct_values)\n",
    "        \n",
    "        axes[v, u].matshow(dct_values, vmin=-1, vmax=1, cmap='gray')\n",
    "        axes[v, u].get_xaxis().set_ticks([])\n",
    "        axes[v, u].get_yaxis().set_ticks([])\n",
    "        \n",
    "_ = plt.savefig(Path('..', 'images', 'dct_grid.JPG'))"
   ]
  },
  {
   "cell_type": "code",
   "execution_count": null,
   "metadata": {},
   "outputs": [],
   "source": [
    "patch_shifted = patch - 128\n",
    "\n",
    "color_func = lambda val: 'white' if val < -10 else 'black'\n",
    "matshow(patch_shifted, color_func)\n",
    "_ = plt.savefig(Path('..', 'images', 'patch_shifted_numbers.JPG'))"
   ]
  },
  {
   "cell_type": "code",
   "execution_count": null,
   "metadata": {},
   "outputs": [],
   "source": [
    "patch_dct = pyjpeg.dct(patch_shifted)\n",
    "color_func = lambda val: 'white' if val < -110 else 'black'\n",
    "matshow(patch_dct.astype(int), color_func)\n",
    "_ = plt.savefig(Path('..', 'images', 'patch_dct.JPG'))"
   ]
  },
  {
   "cell_type": "code",
   "execution_count": null,
   "metadata": {},
   "outputs": [],
   "source": [
    "fig, axes = plt.subplots(8, 8, figsize=(10, 10))\n",
    "                              \n",
    "for v in range(8):\n",
    "    for u in range(8):                       \n",
    "        hor_dct_values = dct_cos(np.arange(8), u).reshape(1, 8)\n",
    "        ver_dct_values = dct_cos(np.arange(8), v).reshape(8, 1)\n",
    "        dct_values = np.outer(ver_dct_values, hor_dct_values)\n",
    "        \n",
    "        c = 'black' if u == 0 and v == 0 else 'white'\n",
    "        axes[v, u].matshow(dct_values, vmin=-1, vmax=1, cmap='gray')\n",
    "        axes[v, u].text(\n",
    "            3.5, \n",
    "            3.5, \n",
    "            int(patch_dct[v, u]), \n",
    "            va='center', \n",
    "            ha='center', \n",
    "            fontsize=25, \n",
    "            color=c,\n",
    "            weight='bold'\n",
    "        )\n",
    "        axes[v, u].get_xaxis().set_ticks([])\n",
    "        axes[v, u].get_yaxis().set_ticks([])\n",
    "        \n",
    "_ = plt.savefig(Path('..', 'images', 'dct_grid_w_numbers.JPG'))"
   ]
  },
  {
   "cell_type": "markdown",
   "metadata": {},
   "source": [
    "# Check if output matches input"
   ]
  },
  {
   "cell_type": "code",
   "execution_count": null,
   "metadata": {},
   "outputs": [],
   "source": [
    "reconstructed = np.zeros((8, 8))\n",
    "\n",
    "for v in range(8):\n",
    "    for u in range(8):                       \n",
    "        hor_dct_values = pyjpeg._normalization_constant(u) * dct_cos(np.arange(8), u).reshape(1, 8)\n",
    "        ver_dct_values = pyjpeg._normalization_constant(v) * dct_cos(np.arange(8), v).reshape(8, 1)\n",
    "        dct_values = np.outer(ver_dct_values, hor_dct_values)\n",
    "        \n",
    "        reconstructed += patch_dct[v, u] * dct_values \n",
    "         \n",
    "reconstructed / 4"
   ]
  },
  {
   "cell_type": "code",
   "execution_count": null,
   "metadata": {},
   "outputs": [],
   "source": [
    "patch_shifted"
   ]
  },
  {
   "cell_type": "markdown",
   "metadata": {},
   "source": [
    "# Decompress image"
   ]
  },
  {
   "cell_type": "code",
   "execution_count": null,
   "metadata": {},
   "outputs": [],
   "source": [
    "quantization = np.array([\n",
    "    [16, 11, 10, 16, 24, 40, 51, 61], \n",
    "    [12, 12, 14, 19, 26, 58, 60, 55], \n",
    "    [14, 13, 16, 24, 40, 57, 69, 56], \n",
    "    [14, 17, 22, 29, 51, 87, 80, 62], \n",
    "    [18, 22, 37, 56, 68, 109, 103, 77], \n",
    "    [24, 35, 55, 64, 81, 104, 113, 92], \n",
    "    [49, 64, 78, 87, 103, 121, 120, 101], \n",
    "    [72, 92, 95, 98, 112, 100, 103, 99], \n",
    "])"
   ]
  },
  {
   "cell_type": "code",
   "execution_count": null,
   "metadata": {
    "scrolled": false
   },
   "outputs": [],
   "source": [
    "quantization_factor = 1\n",
    "decompressed_im = np.zeros(im.shape)\n",
    "\n",
    "shifted_im = im - 128\n",
    "\n",
    "for v in range(0, decompressed_im.shape[0], 8):\n",
    "    print(v)\n",
    "    for u in range(0, decompressed_im.shape[1], 8):\n",
    "        \n",
    "        patch = shifted_im[v: v + 8, u: u + 8]\n",
    "        dct = (pyjpeg.dct(patch) / quantization).astype(int) * quantization\n",
    "        decompressed_im[v: v + 8, u: u + 8] = pyjpeg.idct(dct)\n",
    "        \n",
    "decompressed_im += 128\n",
    "\n",
    "fig, ax = plt.subplots(1, 1)\n",
    "plt.imshow(decompressed_im, cmap='gray')\n",
    "ax.get_xaxis().set_ticks([])\n",
    "ax.get_yaxis().set_ticks([])\n",
    "plt.tight_layout()\n",
    "_ = plt.savefig(Path('..', 'images', 'xccelerated_compressed.JPG'))"
   ]
  },
  {
   "cell_type": "code",
   "execution_count": null,
   "metadata": {},
   "outputs": [],
   "source": [
    "fig, ax = plt.subplots(1, 1)\n",
    "plt.imshow(decompressed_im, cmap='gray')\n",
    "ax.get_xaxis().set_ticks([])\n",
    "ax.get_yaxis().set_ticks([])\n",
    "plt.tight_layout()\n",
    "_ = plt.savefig(Path('..', 'images', 'xccelerated_compressed.JPG'))"
   ]
  }
 ],
 "metadata": {
  "kernelspec": {
   "display_name": "Python 3",
   "language": "python",
   "name": "python3"
  },
  "language_info": {
   "codemirror_mode": {
    "name": "ipython",
    "version": 3
   },
   "file_extension": ".py",
   "mimetype": "text/x-python",
   "name": "python",
   "nbconvert_exporter": "python",
   "pygments_lexer": "ipython3",
   "version": "3.7.4"
  }
 },
 "nbformat": 4,
 "nbformat_minor": 2
}
