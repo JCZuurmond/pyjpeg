{
 "cells": [
  {
   "cell_type": "code",
   "execution_count": null,
   "metadata": {},
   "outputs": [],
   "source": [
    "%load_ext autoreload\n",
    "%autoreload 2\n",
    "%matplotlib inline"
   ]
  },
  {
   "cell_type": "markdown",
   "metadata": {},
   "source": [
    "# This notebook contains the plots used in the presentation for GDDFest 2019"
   ]
  },
  {
   "cell_type": "code",
   "execution_count": null,
   "metadata": {},
   "outputs": [],
   "source": [
    "from pathlib import Path\n",
    "\n",
    "import matplotlib.pyplot as plt\n",
    "import numpy as np\n",
    "import pandas as pd\n",
    "import plotnine as p9\n",
    "from PIL import Image\n",
    "\n",
    "from pyjpeg import pyjpeg\n",
    "\n",
    "\n",
    "image_path = Path('..', 'images', 'lena512.bmp')\n",
    "image = Image.open(image_path)\n",
    "\n",
    "print('Image size:', image.size)\n",
    "image"
   ]
  },
  {
   "cell_type": "code",
   "execution_count": null,
   "metadata": {},
   "outputs": [],
   "source": [
    "im = np.array(image.getdata()).reshape(image.size[::-1] + (-1,))\n",
    "# Ignore the alpha channel\n",
    "im = im[:, :, :3].mean(axis=2)"
   ]
  },
  {
   "cell_type": "code",
   "execution_count": null,
   "metadata": {},
   "outputs": [],
   "source": [
    "fig, ax = plt.subplots(1, 1, figsize=(12, 8))\n",
    "ax.imshow(im, cmap='gray', vmin=0, vmax=255)\n",
    "ax.axis('off')\n",
    "plt.tight_layout()\n",
    "_ = plt.savefig(Path('..', 'images', 'lena.png'))"
   ]
  },
  {
   "cell_type": "markdown",
   "metadata": {},
   "source": [
    "# Naive compression"
   ]
  },
  {
   "cell_type": "markdown",
   "metadata": {},
   "source": [
    "Reduce the range in pixel values."
   ]
  },
  {
   "cell_type": "code",
   "execution_count": null,
   "metadata": {},
   "outputs": [],
   "source": [
    "fig, ax = plt.subplots(1, 1, figsize=(12, 8))\n",
    "division = 2 ** 3 \n",
    "ax.imshow((im / division).astype(int), vmin=0, vmax=int(255 / division), cmap='gray')\n",
    "ax.axis('off')\n",
    "plt.tight_layout()\n",
    "_ = plt.savefig(Path('..', 'images', f'lena-pixels-{division}.png'))"
   ]
  },
  {
   "cell_type": "markdown",
   "metadata": {},
   "source": [
    "Select the upper right quarter of an image."
   ]
  },
  {
   "cell_type": "code",
   "execution_count": null,
   "metadata": {},
   "outputs": [],
   "source": [
    "fig, ax = plt.subplots(1, 1, figsize=(12, 8))\n",
    "h, w = int(im.shape[0] / 2), int(im.shape[1] / 2)\n",
    "ax.imshow(im[:h, :w], vmin=0, vmax=255, cmap='gray')\n",
    "ax.axis('off')\n",
    "plt.tight_layout()\n",
    "_ = plt.savefig(Path('..', 'images', 'lena-quarter.png'))"
   ]
  },
  {
   "cell_type": "markdown",
   "metadata": {},
   "source": [
    "# Histogram of pixel values"
   ]
  },
  {
   "cell_type": "code",
   "execution_count": null,
   "metadata": {},
   "outputs": [],
   "source": [
    "plotr = pd.DataFrame({'values': im.flatten()}, index=range(len(im.flatten())))\n",
    "(\n",
    "    p9.ggplot()\n",
    "    + p9.geom_histogram(data=plotr, mapping=p9.aes('values'))\n",
    "    + p9.theme_xkcd()\n",
    "    + p9.labels.xlab('Pixel values')\n",
    ")#.save(Path('..', 'images', 'lena-pixel-values-hist.png'))"
   ]
  },
  {
   "cell_type": "markdown",
   "metadata": {},
   "source": [
    "# Wave"
   ]
  },
  {
   "cell_type": "code",
   "execution_count": null,
   "metadata": {},
   "outputs": [],
   "source": [
    "x = np.linspace(0, 1, 10_000)\n",
    "f = 3\n",
    "plotr = pd.DataFrame({\n",
    "    'x': x,\n",
    "    'y': np.cos(x * f * 2 * np.pi)\n",
    "})\n",
    "\n",
    "(\n",
    "    p9.ggplot()\n",
    "    + p9.geom_jitter(plotr, p9.aes(x='x', y='y'))\n",
    "    + p9.theme_void()\n",
    ")#.save(Path('..', 'images', f'wave-{f}.png'))"
   ]
  },
  {
   "cell_type": "markdown",
   "metadata": {},
   "source": [
    "# Filters\n",
    "\n",
    "Image filters"
   ]
  },
  {
   "cell_type": "code",
   "execution_count": null,
   "metadata": {},
   "outputs": [],
   "source": [
    "def matshow(patch, vmin=None, vmax=None, round_digits=1, threshold=0):\n",
    "    vmin = vmin or patch.min()\n",
    "    vmax = vmax or patch.max()\n",
    "    \n",
    "    tile_height = tile_width = 0.95\n",
    "\n",
    "    nrows = 1\n",
    "    hshift = 0\n",
    "    vshift = 0.5 * tile_height\n",
    "\n",
    "    plotr = pd.DataFrame({\n",
    "        'x': np.tile(np.arange(patch.shape[1]), patch.shape[0]).flatten() + hshift,\n",
    "        'y': - np.repeat(np.arange(patch.shape[0]), patch.shape[1]).flatten() + vshift,\n",
    "        'value': np.round(patch.flatten(), round_digits),\n",
    "        'color_text': patch.flatten() < threshold\n",
    "    })\n",
    "\n",
    "    return (\n",
    "        p9.ggplot(p9.aes('x', 'y'))\n",
    "        + p9.geom_tile(plotr, p9.aes(width=tile_width, height=tile_height))\n",
    "        + p9.geom_text(plotr, p9.aes(label='value', color='color_text'))\n",
    "        + p9.aes(fill='value')\n",
    "        + p9.coord_equal(expand=False)\n",
    "        + p9.theme_void()\n",
    "        + p9.scales.scale_fill_gradient(high='#f0f0f0', low='#252525', guide=False)\n",
    "        + p9.scales.scale_color_gray(breaks=[False, True], guide=False)\n",
    "    )"
   ]
  },
  {
   "cell_type": "markdown",
   "metadata": {},
   "source": [
    "## One-dimensional"
   ]
  },
  {
   "cell_type": "code",
   "execution_count": null,
   "metadata": {},
   "outputs": [],
   "source": [
    "dct_cos = lambda x, u: np.cos(((2 * x + 1) * u * np.pi) / 16)\n",
    "\n",
    "spatial_frequency = 7\n",
    "for spatial_frequency in range(9):\n",
    "    dct_values = dct_cos(np.arange(8), spatial_frequency).reshape(1, 8)\n",
    "\n",
    "    matshow(dct_values, vmin=-1, vmax=1).save(Path('..', 'images', f'dct_1d_{spatial_frequency}.png'))"
   ]
  },
  {
   "cell_type": "markdown",
   "metadata": {},
   "source": [
    "## Two-dimensional"
   ]
  },
  {
   "cell_type": "code",
   "execution_count": null,
   "metadata": {},
   "outputs": [],
   "source": [
    "dct_cos = lambda x, u: np.cos(((2 * x + 1) * u * np.pi) / 16)\n",
    "\n",
    "hor_spatial_frequency = 3\n",
    "ver_spatial_frequency = 6\n",
    "for hor_spatial_frequency in range(9):\n",
    "    for ver_spatial_frequency in range(9):\n",
    "        hor_dct_values = dct_cos(np.arange(8), hor_spatial_frequency).reshape(1, 8)\n",
    "        ver_dct_values = dct_cos(np.arange(8), ver_spatial_frequency).reshape(8, 1)\n",
    "        dct_values = np.outer(ver_dct_values, hor_dct_values)\n",
    "\n",
    "        matshow(dct_values, vmin=-1, vmax=1).save(Path('..', 'images', f'dct_2d_{hor_spatial_frequency}_{ver_spatial_frequency}.png'))"
   ]
  },
  {
   "cell_type": "markdown",
   "metadata": {},
   "source": [
    "# Image DCT and compression"
   ]
  },
  {
   "cell_type": "code",
   "execution_count": null,
   "metadata": {
    "scrolled": true
   },
   "outputs": [],
   "source": [
    "quantization = np.array([\n",
    "    [16, 11, 10, 16, 24, 40, 51, 61], \n",
    "    [12, 12, 14, 19, 26, 58, 60, 55], \n",
    "    [14, 13, 16, 24, 40, 57, 69, 56], \n",
    "    [14, 17, 22, 29, 51, 87, 80, 62], \n",
    "    [18, 22, 37, 56, 68, 109, 103, 77], \n",
    "    [24, 35, 55, 64, 81, 104, 113, 92], \n",
    "    [49, 64, 78, 87, 103, 121, 120, 101], \n",
    "    [72, 92, 95, 98, 112, 100, 103, 99], \n",
    "])\n",
    "\n",
    "# quantization = 1\n",
    "decompressed_im = np.zeros(im.shape)\n",
    "compressed_im = np.zeros(im.shape)\n",
    "\n",
    "shifted_im = im - 128\n",
    "\n",
    "for v in range(0, decompressed_im.shape[0], 8):\n",
    "    print(v, end=' -> ')\n",
    "    for u in range(0, decompressed_im.shape[1], 8):\n",
    "        \n",
    "        patch = shifted_im[v: v + 8, u: u + 8]\n",
    "        dct = (pyjpeg.dct(patch) / quantization).astype(int)\n",
    "        compressed_im[v: v + 8, u: u + 8] = dct\n",
    "        decompressed_im[v: v + 8, u: u + 8] = pyjpeg.idct(dct * quantization)\n",
    "        \n",
    "decompressed_im += 128\n",
    "print('finished')"
   ]
  },
  {
   "cell_type": "code",
   "execution_count": null,
   "metadata": {},
   "outputs": [],
   "source": [
    "def sliding_window(arr):\n",
    "    for i in range(len(arr) - 1):\n",
    "        yield arr[i: i + 2]"
   ]
  },
  {
   "cell_type": "markdown",
   "metadata": {},
   "source": [
    "## Histogram of the frequency values"
   ]
  },
  {
   "cell_type": "code",
   "execution_count": null,
   "metadata": {},
   "outputs": [],
   "source": [
    "count, values = np.histogram(compressed_im, bins=30)\n",
    "widths = [(w[1] - w[0]) * 0.8 for w in sliding_window(values)]\n",
    "values = [w.mean() for w in sliding_window(values)]\n",
    "\n",
    "plotr = pd.DataFrame({\n",
    "    'x': values,\n",
    "    'y': count,\n",
    "    'width': widths\n",
    "})\n",
    "\n",
    "(\n",
    "    p9.ggplot()\n",
    "    + p9.geom_col(data=plotr, mapping=p9.aes(x='x', y='y', width='width'))\n",
    "    + p9.theme_xkcd()\n",
    "    + p9.xlab('frequency value')\n",
    "    + p9.ylab('count')\n",
    ").save(Path('..', 'images', 'lena-compressed-pixel-values-hist.png'))"
   ]
  },
  {
   "cell_type": "markdown",
   "metadata": {},
   "source": [
    "# Encode compressed image"
   ]
  },
  {
   "cell_type": "code",
   "execution_count": null,
   "metadata": {},
   "outputs": [],
   "source": [
    "from pyjpeg import huffman"
   ]
  },
  {
   "cell_type": "code",
   "execution_count": null,
   "metadata": {},
   "outputs": [],
   "source": [
    "print('New image size is')\n",
    "( \n",
    "    len(huffman.encode(compressed_im.astype(int).flatten()))\n",
    ") / (8 * im.shape[0] * im.shape[1])"
   ]
  },
  {
   "cell_type": "markdown",
   "metadata": {},
   "source": [
    "Compressed image"
   ]
  },
  {
   "cell_type": "code",
   "execution_count": null,
   "metadata": {},
   "outputs": [],
   "source": [
    "fig, ax = plt.subplots(1, 1, figsize=(12, 8))\n",
    "ax.imshow(decompressed_im, vmin=0, vmax=255, cmap='gray')\n",
    "ax.axis('off')\n",
    "plt.tight_layout()\n",
    "_ = plt.savefig(Path('..', 'images', 'lena-jpg.png'))"
   ]
  },
  {
   "cell_type": "markdown",
   "metadata": {},
   "source": [
    "# Quantization matrix"
   ]
  },
  {
   "cell_type": "code",
   "execution_count": null,
   "metadata": {},
   "outputs": [],
   "source": [
    "(\n",
    "    matshow(quantization, threshold=quantization.mean())\n",
    "#     + p9.theme_xkcd()\n",
    ").save(Path('..', 'images', 'quantization.png'))"
   ]
  },
  {
   "cell_type": "markdown",
   "metadata": {},
   "source": [
    "## All filters together"
   ]
  },
  {
   "cell_type": "code",
   "execution_count": null,
   "metadata": {},
   "outputs": [],
   "source": [
    "def two_d_dct(hor_spatial_frequency, ver_spatial_frequency):\n",
    "    hor_dct_values = dct_cos(np.arange(8), hor_spatial_frequency).reshape(1, 8)\n",
    "    ver_dct_values = dct_cos(np.arange(8), ver_spatial_frequency).reshape(8, 1)\n",
    "    return np.outer(ver_dct_values, hor_dct_values)\n",
    "\n",
    "\n",
    "two_d_dcts = [\n",
    "    (hor_spatial_frequency, ver_spatial_frequency, two_d_dct(hor_spatial_frequency, ver_spatial_frequency))\n",
    "    for hor_spatial_frequency in range(8)\n",
    "    for ver_spatial_frequency in range(8)\n",
    "]\n",
    "\n",
    "plotr = pd.concat([\n",
    "        pd.DataFrame({\n",
    "        'x': np.tile(np.arange(patch.shape[1]), patch.shape[0]).flatten() + hshift,\n",
    "        'y': - np.repeat(np.arange(patch.shape[0]), patch.shape[1]).flatten() + vshift,\n",
    "        'value': np.round(patch.flatten(), 2),\n",
    "        'color_text': patch.flatten() < 0,\n",
    "        'hor_f': [hor_f] * len(patch.flatten()),\n",
    "        'ver_f': [ver_f] * len(patch.flatten()),\n",
    "    })\n",
    "    for hor_f, ver_f, patch in two_d_dcts\n",
    "])\n",
    "\n",
    "tile_height = tile_width = 0.95\n",
    "\n",
    "nrows = 1\n",
    "hshift = 0\n",
    "vshift = 0.5 * tile_height\n",
    "\n",
    "# plotr = plotr.loc[lambda df: df['ver_f'] < 2].loc[lambda df: df['hor_f'] < 2]\n",
    "\n",
    "(\n",
    "    p9.ggplot(p9.aes('x', 'y'))\n",
    "    + p9.geom_tile(plotr, p9.aes(width=tile_width, height=tile_height))\n",
    "#     + p9.geom_text(plotr, p9.aes(label='value', color='color_text'))\n",
    "    + p9.aes(fill='value')\n",
    "    + p9.coord_equal(expand=False)\n",
    "    + p9.theme_void()\n",
    "    + p9.scales.scale_fill_gradient(high='#f0f0f0', low='#252525', guide=False)\n",
    "    + p9.scales.scale_color_gray(breaks=[False, True], guide=False)\n",
    "    + p9.facet_grid('ver_f ~ hor_f', labeller=lambda *args, **kwargs: '')\n",
    "    \n",
    "    + p9.theme(\n",
    "        panel_spacing=0.1,\n",
    "    )\n",
    ").save(Path('..', 'images', 'all-filters.png'))"
   ]
  },
  {
   "cell_type": "markdown",
   "metadata": {},
   "source": [
    "# Original and compressed image side-by-side"
   ]
  },
  {
   "cell_type": "code",
   "execution_count": null,
   "metadata": {},
   "outputs": [],
   "source": [
    "\n",
    "fig, axes = plt.subplots(1, 2, figsize=(12, 8))\n",
    "axes[0].imshow(im, vmin=0, vmax=255, cmap='gray')\n",
    "axes[1].imshow(decompressed_im, vmin=0, vmax=255, cmap='gray')\n",
    "for ax in axes:\n",
    "    ax.axis('off')\n",
    "plt.tight_layout()\n",
    "_ = plt.savefig(Path('..', 'images', 'lena-side-by-side.png'))"
   ]
  },
  {
   "cell_type": "markdown",
   "metadata": {},
   "source": [
    "# Image frequencies"
   ]
  },
  {
   "cell_type": "code",
   "execution_count": null,
   "metadata": {},
   "outputs": [],
   "source": [
    "fig, ax = plt.subplots(1, 1, figsize=(12, 8))\n",
    "ax.imshow(compressed_im, cmap='gray')\n",
    "ax.axis('off')\n",
    "plt.tight_layout()\n",
    "_ = plt.savefig(Path('..', 'images', 'lena-freq.png'))"
   ]
  },
  {
   "cell_type": "code",
   "execution_count": null,
   "metadata": {},
   "outputs": [],
   "source": [
    "fig, axes = plt.subplots(1, 2, figsize=(12, 8))\n",
    "axes[0].imshow(im, vmin=0, vmax=255, cmap='gray')\n",
    "axes[1].imshow(compressed_im, cmap='gray')\n",
    "for ax in axes:\n",
    "    ax.axis('off')\n",
    "plt.tight_layout()\n",
    "_ = plt.savefig(Path('..', 'images', 'lena-freq-side-by-side.png'))"
   ]
  }
 ],
 "metadata": {
  "kernelspec": {
   "display_name": "Python 3",
   "language": "python",
   "name": "python3"
  },
  "language_info": {
   "codemirror_mode": {
    "name": "ipython",
    "version": 3
   },
   "file_extension": ".py",
   "mimetype": "text/x-python",
   "name": "python",
   "nbconvert_exporter": "python",
   "pygments_lexer": "ipython3",
   "version": "3.7.4"
  }
 },
 "nbformat": 4,
 "nbformat_minor": 2
}
